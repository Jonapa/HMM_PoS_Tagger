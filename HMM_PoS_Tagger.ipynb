{
  "nbformat": 4,
  "nbformat_minor": 0,
  "metadata": {
    "colab": {
      "provenance": []
    },
    "kernelspec": {
      "name": "python3",
      "display_name": "Python 3"
    },
    "language_info": {
      "name": "python"
    }
  },
  "cells": [
    {
      "cell_type": "markdown",
      "source": [
        "# HMM PoS tagger"
      ],
      "metadata": {
        "id": "tf9ULXkPYWRz"
      }
    },
    {
      "cell_type": "markdown",
      "source": [
        "## Introduction"
      ],
      "metadata": {
        "id": "lqAfMXv6Ycew"
      }
    },
    {
      "cell_type": "markdown",
      "source": [
        "## HMM implementation"
      ],
      "metadata": {
        "id": "V4ff3_FeYfhJ"
      }
    },
    {
      "cell_type": "code",
      "source": [
        "# Implementation of the HMM model"
      ],
      "metadata": {
        "id": "igkBhNAXnt23"
      },
      "execution_count": null,
      "outputs": []
    },
    {
      "cell_type": "markdown",
      "source": [
        "## Viterbi algorithm"
      ],
      "metadata": {
        "id": "WWy_2FgUnCs9"
      }
    },
    {
      "cell_type": "code",
      "execution_count": null,
      "metadata": {
        "id": "gD_ptS94YSOE"
      },
      "outputs": [],
      "source": [
        "# Implementation of the viterbi algorithm"
      ]
    },
    {
      "cell_type": "markdown",
      "source": [
        "##Experiments"
      ],
      "metadata": {
        "id": "-1Re2WKhYi5p"
      }
    },
    {
      "cell_type": "markdown",
      "source": [],
      "metadata": {
        "id": "ZrCgYCEXY68u"
      }
    },
    {
      "cell_type": "code",
      "source": [],
      "metadata": {
        "id": "nWxNZtm1YtMq"
      },
      "execution_count": null,
      "outputs": []
    },
    {
      "cell_type": "markdown",
      "source": [
        "### In-domain"
      ],
      "metadata": {
        "id": "5-ES_gugYtqB"
      }
    },
    {
      "cell_type": "markdown",
      "source": [],
      "metadata": {
        "id": "1tj6D23qY5IU"
      }
    },
    {
      "cell_type": "code",
      "source": [],
      "metadata": {
        "id": "znH8oPNXYwzq"
      },
      "execution_count": null,
      "outputs": []
    },
    {
      "cell_type": "markdown",
      "source": [],
      "metadata": {
        "id": "A_OnXj8zY5fr"
      }
    },
    {
      "cell_type": "markdown",
      "source": [
        "### Out-of-domain"
      ],
      "metadata": {
        "id": "Z6LxP9V3YxE2"
      }
    },
    {
      "cell_type": "markdown",
      "source": [],
      "metadata": {
        "id": "z8P3JCgoY6G6"
      }
    },
    {
      "cell_type": "code",
      "source": [],
      "metadata": {
        "id": "TPf5cUelYzN8"
      },
      "execution_count": null,
      "outputs": []
    },
    {
      "cell_type": "markdown",
      "source": [],
      "metadata": {
        "id": "clof0wvJY6Xw"
      }
    },
    {
      "cell_type": "markdown",
      "source": [
        "## Conclusion"
      ],
      "metadata": {
        "id": "JAdEfMYfYywC"
      }
    },
    {
      "cell_type": "markdown",
      "source": [],
      "metadata": {
        "id": "7CUnaErdY3f_"
      }
    }
  ]
}