{
 "cells": [
  {
   "cell_type": "markdown",
   "metadata": {},
   "source": [
    "# Viterbi algorithm\n",
    "\n",
    "Input: matrix transitions, matrix , init, vocab"
   ]
  },
  {
   "cell_type": "code",
   "execution_count": null,
   "metadata": {},
   "outputs": [],
   "source": [
    "import numpy as np"
   ]
  },
  {
   "cell_type": "code",
   "execution_count": null,
   "metadata": {},
   "outputs": [],
   "source": [
    "def viterbi(sentence, init_matrix, transition_matrix, emission_matrix, word_to_index, category_to_index):\n",
    "    num_categories = len(init_matrix) # num categories N\n",
    "    num_words = len(sentence) # num words in the sentence T\n",
    "\n",
    "    # viterbi table\n",
    "    viterbi_table = np.zeros((num_categories, num_words))\n",
    "    backpointer_table = np.zeros((num_categories, num_words), dtype=int)\n",
    "\n",
    "\n",
    "    # first step (init)\n",
    "    for category in range(num_categories):\n",
    "        word_index = word_to_index.get(sentence[0], None)\n",
    "        if word_index is not None:\n",
    "            viterbi_table[category, 0] = init_matrix[category] * emission_matrix[category, word_index]\n",
    "        else:\n",
    "            viterbi_table[category, 0] = 0\n",
    "\n",
    "    # recursion step\n",
    "    for t in range (1, num_words): # from 2 to T\n",
    "        for category in range(num_categories): # from 1 to N\n",
    "            max_prob = 0\n",
    "            max_prev_category = 0\n",
    "            word_index = word_to_index.get(sentence[t], None)\n",
    "\n",
    "            for prev_category in range(num_categories):\n",
    "                prev_viterbi = viterbi_table[prev_category, t-1]\n",
    "                transition_score = transition_matrix[prev_category, category]\n",
    "                if word_index is not None:\n",
    "                    emission_score = emission_matrix[category, word_index]\n",
    "                else:\n",
    "                    emission_score = 0\n",
    "\n",
    "                current_prob = prev_viterbi * transition_score * emission_score\n",
    "\n",
    "                if current_prob > max_prob:\n",
    "                    max_prob = current_prob\n",
    "                    max_prev_category = prev_category\n",
    "\n",
    "            # update tables viterbi and backpointer\n",
    "            viterbi_table[category, t] = max_prob\n",
    "            backpointer_table[category, t] = max_prev_category # a la que apunta \n",
    "\n",
    "    # final probability step\n",
    "    max_final_category = np.argmax(viterbi_table[:, -1]) # all the rows of the last column\n",
    "    max_prob = viterbi_table[max_final_category, -1] # maximum probability is the one in the last column of the max_final category row\n",
    "\n",
    "    # construct optimal sequence\n",
    "    optimal_seq = [max_final_category]\n",
    "\n",
    "    ######## NOT FINISHED\n",
    "    \n",
    "    return optimal_seq, max_prob\n"
   ]
  }
 ],
 "metadata": {
  "language_info": {
   "name": "python"
  }
 },
 "nbformat": 4,
 "nbformat_minor": 2
}
